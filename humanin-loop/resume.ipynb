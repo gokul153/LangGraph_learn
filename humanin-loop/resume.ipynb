{
 "cells": [
  {
   "cell_type": "code",
   "execution_count": null,
   "id": "8274f4bd",
   "metadata": {},
   "outputs": [
    {
     "name": "stdout",
     "output_type": "stream",
     "text": [
      "Node A\n",
      "Node B\n"
     ]
    },
    {
     "data": {
      "text/plain": [
       "[{'node_a': {'value': 'a'}},\n",
       " {'__interrupt__': (Interrupt(value='Do you want to go to C or D? Type C/D', resumable=True, ns=['node_b:8b4ff212-6fc4-8fe6-c779-f5b2cd0a1295']),)}]"
      ]
     },
     "execution_count": 10,
     "metadata": {},
     "output_type": "execute_result"
    }
   ],
   "source": [
    "\n",
    "from langgraph.graph import StateGraph, START, END\n",
    "from langgraph.types import Command,interrupt\n",
    "from typing import TypedDict\n",
    "from langgraph.checkpoint.memory import MemorySaver\n",
    "\n",
    "class State(TypedDict):\n",
    "    value: str\n",
    "\n",
    "memory = MemorySaver()\n",
    "def node_a(state: State): \n",
    "    print(\"Node A\")\n",
    "    return Command(\n",
    "        goto=\"node_b\", \n",
    "        update={\n",
    "            \"value\": state[\"value\"] + \"a\"\n",
    "        }\n",
    "    )\n",
    "\n",
    "def node_b(state: State): \n",
    "    print(\"Node B\")\n",
    "\n",
    "    human_response = interrupt(\"Do you want to go to C or D? Type C/D\")\n",
    "\n",
    "    print(\"Human Review Values: \", human_response)\n",
    "    \n",
    "    if(human_response == \"C\"): \n",
    "        return Command(\n",
    "            goto=\"node_c\", \n",
    "            update={\n",
    "                \"value\": state[\"value\"] + \"b\"\n",
    "            }\n",
    "        ) \n",
    "    elif(human_response == \"D\"): \n",
    "        return Command(\n",
    "            goto=\"node_d\", \n",
    "            update={\n",
    "                \"value\": state[\"value\"] + \"b\"\n",
    "            }\n",
    "        )\n",
    "    else:\n",
    "        return Command(goto=\"cannot_answer\", update={\"value\": state[\"value\"] + \"?\"})\n",
    "\n",
    "\n",
    "def node_c(state: State): \n",
    "    print(\"Node C\")\n",
    "    return Command(\n",
    "        goto=END, \n",
    "        update={\n",
    "            \"value\": state[\"value\"] + \"c\"\n",
    "        }\n",
    "    )\n",
    "\n",
    "def node_d(state: State): \n",
    "    print(\"Node D\")\n",
    "    return Command(\n",
    "        goto=END, \n",
    "        update={\n",
    "            \"value\": state[\"value\"] + \"d\"\n",
    "        }\n",
    ")\n",
    "def cannot_answer(state: State): \n",
    "    print(\"Invalid answer. Ending the flow with fallback.\")\n",
    "    return Command(goto=END, update={\"value\": state[\"value\"] + \"invalid\"})\n",
    "\n",
    "graph = StateGraph(State)\n",
    "\n",
    "graph.add_node(\"node_a\", node_a)\n",
    "graph.add_node(\"node_b\", node_b)\n",
    "graph.add_node(\"node_c\", node_c)\n",
    "\n",
    "graph.set_entry_point(\"node_a\")\n",
    "\n",
    "\n",
    "app = graph.compile(checkpointer=memory)\n",
    "config = {\"configurable\": {\"thread_id\": \"1\"}}\n",
    "initialState = {\n",
    "    \"value\": \"\"\n",
    "}\n",
    "\n",
    "first_result = app.invoke(initialState, config, stream_mode=\"updates\")\n",
    "first_result"
   ]
  },
  {
   "cell_type": "code",
   "execution_count": 13,
   "id": "c156c4ca",
   "metadata": {},
   "outputs": [
    {
     "name": "stdout",
     "output_type": "stream",
     "text": [
      "Node A\n",
      "Node B\n"
     ]
    },
    {
     "data": {
      "text/plain": [
       "[{'node_a': {'value': 'a'}},\n",
       " {'__interrupt__': (Interrupt(value='Do you want to go to C or D? Type C/D', resumable=True, ns=['node_b:968ec58b-c619-9dbe-17e3-fbb288cb13f2']),)}]"
      ]
     },
     "execution_count": 13,
     "metadata": {},
     "output_type": "execute_result"
    }
   ],
   "source": [
    "from langgraph.graph import StateGraph, START, END\n",
    "from langgraph.types import Command, interrupt\n",
    "from typing import TypedDict, Literal\n",
    "from langgraph.checkpoint.memory import MemorySaver\n",
    "\n",
    "class State(TypedDict):\n",
    "    value: str\n",
    "\n",
    "memory = MemorySaver()\n",
    "\n",
    "def node_a(state: State): \n",
    "    print(\"Node A\")\n",
    "    return Command(\n",
    "        goto=\"node_b\",\n",
    "        update={\"value\": state[\"value\"] + \"a\"}\n",
    "    )\n",
    "\n",
    "def node_b(state: State): \n",
    "    print(\"Node B\")\n",
    "    human_response = interrupt(\"Do you want to go to C or D? Type C/D\").strip().upper()\n",
    "    print(\"Human Response:\", human_response)\n",
    "\n",
    "    if human_response == \"C\": \n",
    "        return Command(goto=\"node_c\", update={\"value\": state[\"value\"] + \"b\"})\n",
    "    elif human_response == \"D\": \n",
    "        return Command(goto=\"node_d\", update={\"value\": state[\"value\"] + \"b\"})\n",
    "    else:\n",
    "        return Command(goto=\"cannot_answer\", update={\"value\": state[\"value\"] + \"?\"})\n",
    "\n",
    "def node_c(state: State): \n",
    "    print(\"Node C\")\n",
    "    return Command(goto=END, update={\"value\": state[\"value\"] + \"c\"})\n",
    "\n",
    "def node_d(state: State): \n",
    "    print(\"Node D\")\n",
    "    return Command(goto=END, update={\"value\": state[\"value\"] + \"d\"})\n",
    "\n",
    "def cannot_answer(state: State): \n",
    "    print(\"Invalid answer. Ending the flow with fallback.\")\n",
    "    return Command(goto=END, update={\"value\": state[\"value\"] + \"invalid\"})\n",
    "\n",
    "graph = StateGraph(State)\n",
    "\n",
    "graph.add_node(\"node_a\", node_a)\n",
    "graph.add_node(\"node_b\", node_b)\n",
    "graph.add_node(\"node_c\", node_c)\n",
    "graph.add_node(\"node_d\", node_d)\n",
    "graph.add_node(\"cannot_answer\", cannot_answer)\n",
    "\n",
    "graph.set_entry_point(\"node_a\")\n",
    "\n",
    "app = graph.compile(checkpointer=memory)\n",
    "\n",
    "config = {\"configurable\": {\"thread_id\": \"1\"}}\n",
    "initialState = {\"value\": \"\"}\n",
    "\n",
    "result = app.invoke(initialState, config, stream_mode=\"updates\")\n",
    "result\n"
   ]
  },
  {
   "cell_type": "code",
   "execution_count": 14,
   "id": "8aac93cb",
   "metadata": {},
   "outputs": [
    {
     "name": "stdout",
     "output_type": "stream",
     "text": [
      "('node_b',)\n"
     ]
    }
   ],
   "source": [
    "print(app.get_state(config).next)"
   ]
  },
  {
   "cell_type": "code",
   "execution_count": 15,
   "id": "d643140a",
   "metadata": {},
   "outputs": [
    {
     "name": "stderr",
     "output_type": "stream",
     "text": [
      "Task node_d with path ('__pregel_pull', 'node_d') wrote to unknown channel branch:to:__end__, ignoring it.\n"
     ]
    },
    {
     "name": "stdout",
     "output_type": "stream",
     "text": [
      "Node B\n",
      "Human Response: D\n",
      "Node D\n"
     ]
    },
    {
     "data": {
      "text/plain": [
       "[{'node_b': {'value': 'ab'}}, {'node_d': {'value': 'abd'}}]"
      ]
     },
     "execution_count": 15,
     "metadata": {},
     "output_type": "execute_result"
    }
   ],
   "source": [
    "second_result = app.invoke(Command(resume=\"D\"), config=config, stream_mode=\"updates\")\n",
    "second_result"
   ]
  }
 ],
 "metadata": {
  "kernelspec": {
   "display_name": "myennv",
   "language": "python",
   "name": "python3"
  },
  "language_info": {
   "codemirror_mode": {
    "name": "ipython",
    "version": 3
   },
   "file_extension": ".py",
   "mimetype": "text/x-python",
   "name": "python",
   "nbconvert_exporter": "python",
   "pygments_lexer": "ipython3",
   "version": "3.12.10"
  }
 },
 "nbformat": 4,
 "nbformat_minor": 5
}
