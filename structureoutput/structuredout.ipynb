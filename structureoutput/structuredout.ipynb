{
 "cells": [
  {
   "cell_type": "code",
   "execution_count": 7,
   "id": "0e150bb0",
   "metadata": {},
   "outputs": [],
   "source": [
    "from pydantic import BaseModel, Field, HttpUrl\n",
    "from langchain_groq import ChatGroq\n",
    "from dotenv import load_dotenv\n",
    "load_dotenv()\n",
    "import os\n",
    "\n",
    "groq_api_key=os.getenv(\"GROQ_API_KEY\")\n",
    "\n",
    "llm=ChatGroq(groq_api_key=groq_api_key,model_name=\"Llama3-8b-8192\")"
   ]
  },
  {
   "cell_type": "code",
   "execution_count": 8,
   "id": "b6354fad",
   "metadata": {},
   "outputs": [],
   "source": [
    "from typing import Optional, List\n",
    "class Country(BaseModel):\n",
    "    name: str = Field(..., description=\"The official name of the country.\")\n",
    "    capital: str = Field(..., description=\"The capital city of the country.\")\n",
    "    population: int = Field(..., gt=0, description=\"Total population of the country.\")\n",
    "    area_sq_km: float = Field(..., gt=0, description=\"Total land area in square kilometers.\")\n",
    "    official_language: str = Field(..., description=\"The official or most commonly spoken language.\")\n",
    "    currency: str = Field(..., description=\"The official currency used in the country.\")\n",
    "    iso_code: str = Field(..., min_length=2, max_length=3, description=\"The ISO 3166-1 alpha-2 or alpha-3 country code.\")\n",
    "    timezones: List[str] = Field(..., description=\"List of timezones the country spans.\")\n",
    "    internet_domain: Optional[str] = Field(None, description=\"The country's internet top-level domain (e.g., .in, .us).\")\n",
    "    flag_url: Optional[HttpUrl] = Field(None, description=\"A URL pointing to the image of the country's flag.\")\n",
    "    calling_code: Optional[str] = Field(None, description=\"The international telephone calling code (e.g., +91).\")\n"
   ]
  },
  {
   "cell_type": "code",
   "execution_count": 14,
   "id": "b4fa9496",
   "metadata": {},
   "outputs": [
    {
     "data": {
      "text/plain": [
       "Country(name='North Korea', capital='Pyongyang', population=25000000, area_sq_km=120538.0, official_language='Korean', currency='North Korean won', iso_code='KP', timezones=['KST'], internet_domain=None, flag_url=None, calling_code=None)"
      ]
     },
     "execution_count": 14,
     "metadata": {},
     "output_type": "execute_result"
    }
   ],
   "source": [
    "structured_llm = llm.with_structured_output(Country)\n",
    "structured_llm.invoke(\"north korea\")"
   ]
  },
  {
   "cell_type": "code",
   "execution_count": null,
   "id": "dddebe40",
   "metadata": {},
   "outputs": [],
   "source": []
  }
 ],
 "metadata": {
  "kernelspec": {
   "display_name": "myenv",
   "language": "python",
   "name": "python3"
  },
  "language_info": {
   "codemirror_mode": {
    "name": "ipython",
    "version": 3
   },
   "file_extension": ".py",
   "mimetype": "text/x-python",
   "name": "python",
   "nbconvert_exporter": "python",
   "pygments_lexer": "ipython3",
   "version": "3.11.7"
  }
 },
 "nbformat": 4,
 "nbformat_minor": 5
}
