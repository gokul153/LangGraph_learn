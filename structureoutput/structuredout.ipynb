{
 "cells": [
  {
   "cell_type": "code",
   "execution_count": 7,
   "id": "0e150bb0",
   "metadata": {},
   "outputs": [],
   "source": [
    "from pydantic import BaseModel, Field, HttpUrl\n",
    "from langchain_groq import ChatGroq\n",
    "from dotenv import load_dotenv\n",
    "load_dotenv()\n",
    "import os\n",
    "\n",
    "groq_api_key=os.getenv(\"GROQ_API_KEY\")\n",
    "\n",
    "llm=ChatGroq(groq_api_key=groq_api_key,model_name=\"Llama3-8b-8192\")"
   ]
  },
  {
   "cell_type": "code",
   "execution_count": 8,
   "id": "b6354fad",
   "metadata": {},
   "outputs": [],
   "source": [
    "from typing import Optional, List\n",
    "class Country(BaseModel):\n",
    "    name: str = Field(..., description=\"The official name of the country.\")\n",
    "    capital: str = Field(..., description=\"The capital city of the country.\")\n",
    "    population: int = Field(..., gt=0, description=\"Total population of the country.\")\n",
    "    area_sq_km: float = Field(..., gt=0, description=\"Total land area in square kilometers.\")\n",
    "    official_language: str = Field(..., description=\"The official or most commonly spoken language.\")\n",
    "    currency: str = Field(..., description=\"The official currency used in the country.\")\n",
    "    iso_code: str = Field(..., min_length=2, max_length=3, description=\"The ISO 3166-1 alpha-2 or alpha-3 country code.\")\n",
    "    timezones: List[str] = Field(..., description=\"List of timezones the country spans.\")\n",
    "    internet_domain: Optional[str] = Field(None, description=\"The country's internet top-level domain (e.g., .in, .us).\")\n",
    "    flag_url: Optional[HttpUrl] = Field(None, description=\"A URL pointing to the image of the country's flag.\")\n",
    "    calling_code: Optional[str] = Field(None, description=\"The international telephone calling code (e.g., +91).\")\n"
   ]
  },
  {
   "cell_type": "code",
   "execution_count": 9,
   "id": "b4fa9496",
   "metadata": {},
   "outputs": [
    {
     "data": {
      "text/plain": [
       "Country(name='North Korea', capital='Pyongyang', population=25842100, area_sq_km=120538.0, official_language='Korean', currency='North Korean won', iso_code='KP', timezones=['KST'], internet_domain=None, flag_url=None, calling_code=None)"
      ]
     },
     "execution_count": 9,
     "metadata": {},
     "output_type": "execute_result"
    }
   ],
   "source": [
    "structured_llm = llm.with_structured_output(Country)\n",
    "structured_llm.invoke(\"north korea\")"
   ]
  },
  {
   "cell_type": "code",
   "execution_count": null,
   "id": "dddebe40",
   "metadata": {},
   "outputs": [
    {
     "ename": "",
     "evalue": "",
     "output_type": "error",
     "traceback": [
      "\u001b[1;31mThe Kernel crashed while executing code in the current cell or a previous cell. \n",
      "\u001b[1;31mPlease review the code in the cell(s) to identify a possible cause of the failure. \n",
      "\u001b[1;31mClick <a href='https://aka.ms/vscodeJupyterKernelCrash'>here</a> for more info. \n",
      "\u001b[1;31mView Jupyter <a href='command:jupyter.viewOutput'>log</a> for further details."
     ]
    }
   ],
   "source": []
  },
  {
   "cell_type": "code",
   "execution_count": 12,
   "id": "b5eb2546",
   "metadata": {},
   "outputs": [
    {
     "name": "stdout",
     "output_type": "stream",
     "text": [
      "content='Here\\'s one:\\n\\nThe moon is not round in shape, but is actually slightly elliptical. This means that it\\'s a bit flattened at the poles and bulging at the equator. This shape is known as an \"oblate spheroid\". This is because the moon\\'s rotation causes it to bulge out at the equator due to centrifugal force, while its own gravity pulls it back into a more spherical shape.\\n\\nIsn\\'t that a fun fact? The moon is more like a slightly squished egg than a perfect sphere!' additional_kwargs={} response_metadata={'token_usage': {'completion_tokens': 110, 'prompt_tokens': 19, 'total_tokens': 129, 'completion_time': 0.079849456, 'prompt_time': 0.00306006, 'queue_time': 0.33228748100000005, 'total_time': 0.082909516}, 'model_name': 'Llama3-8b-8192', 'system_fingerprint': 'fp_8b7c3a83f7', 'finish_reason': 'stop', 'logprobs': None} id='run--90f49100-99fc-4a18-817f-ce4d6afd6cea-0' usage_metadata={'input_tokens': 19, 'output_tokens': 110, 'total_tokens': 129}\n"
     ]
    }
   ],
   "source": [
    "\n",
    "# Print response\n",
    "response = llm.invoke(\"Tell me a fun fact about the moon.\")\n",
    "print(response)"
   ]
  },
  {
   "cell_type": "code",
   "execution_count": null,
   "id": "4477eda6",
   "metadata": {},
   "outputs": [],
   "source": []
  }
 ],
 "metadata": {
  "kernelspec": {
   "display_name": "myennv",
   "language": "python",
   "name": "python3"
  },
  "language_info": {
   "codemirror_mode": {
    "name": "ipython",
    "version": 3
   },
   "file_extension": ".py",
   "mimetype": "text/x-python",
   "name": "python",
   "nbconvert_exporter": "python",
   "pygments_lexer": "ipython3",
   "version": "3.12.10"
  }
 },
 "nbformat": 4,
 "nbformat_minor": 5
}
