{
 "cells": [
  {
   "cell_type": "code",
   "execution_count": 29,
   "id": "0e150bb0",
   "metadata": {},
   "outputs": [],
   "source": [
    "from pydantic import BaseModel, Field, HttpUrl\n",
    "from langchain_groq import ChatGroq\n",
    "from dotenv import load_dotenv\n",
    "load_dotenv()\n",
    "import os\n",
    "\n",
    "groq_api_key=os.getenv(\"GROQ_API_KEY\")\n",
    "\n",
    "llm=ChatGroq(groq_api_key=groq_api_key,model_name=\"Llama3-8b-8192\")"
   ]
  },
  {
   "cell_type": "code",
   "execution_count": 30,
   "id": "b6354fad",
   "metadata": {},
   "outputs": [],
   "source": [
    "from typing import Optional, List\n",
    "class Country(BaseModel):\n",
    "    name: str = Field(..., description=\"The official name of the country.\")\n",
    "    capital: str = Field(..., description=\"The capital city of the country.\")\n",
    "    population: int = Field(..., gt=0, description=\"Total population of the country.\")\n",
    "    area_sq_km: float = Field(..., gt=0, description=\"Total land area in square kilometers.\")\n",
    "    official_language: str = Field(..., description=\"The official or most commonly spoken language.\")\n",
    "    currency: str = Field(..., description=\"The official currency used in the country.\")\n",
    "    iso_code: str = Field(..., min_length=2, max_length=3, description=\"The ISO 3166-1 alpha-2 or alpha-3 country code.\")\n",
    "    timezones: List[str] = Field(..., description=\"List of timezones the country spans.\")\n",
    "    internet_domain: Optional[str] = Field(None, description=\"The country's internet top-level domain (e.g., .in, .us).\")\n",
    "    flag_url: Optional[HttpUrl] = Field(None, description=\"A URL pointing to the image of the country's flag.\")\n",
    "    calling_code: Optional[str] = Field(None, description=\"The international telephone calling code (e.g., +91).\")\n"
   ]
  },
  {
   "cell_type": "code",
   "execution_count": 31,
   "id": "b4fa9496",
   "metadata": {},
   "outputs": [
    {
     "data": {
      "text/plain": [
       "Country(name='North Korea', capital='Pyongyang', population=25446000, area_sq_km=120540.0, official_language='Korean', currency='North Korean won', iso_code='KP', timezones=['UTC+8:30'], internet_domain='.kp', flag_url=HttpUrl('https://en.wikipedia.org/wiki/Flag_of_North_Korea'), calling_code=None)"
      ]
     },
     "execution_count": 31,
     "metadata": {},
     "output_type": "execute_result"
    }
   ],
   "source": [
    "structured_llm = llm.with_structured_output(Country)\n",
    "structured_llm.invoke(\"north korea\")"
   ]
  },
  {
   "cell_type": "code",
   "execution_count": 32,
   "id": "dddebe40",
   "metadata": {},
   "outputs": [
    {
     "name": "stdout",
     "output_type": "stream",
     "text": [
      "['gpt-4-0613', 'gpt-4', 'gpt-3.5-turbo', 'o4-mini-deep-research-2025-06-26', 'o3-pro-2025-06-10', 'o4-mini-deep-research', 'o3-deep-research', 'o3-deep-research-2025-06-26', 'davinci-002', 'babbage-002', 'gpt-3.5-turbo-instruct', 'gpt-3.5-turbo-instruct-0914', 'dall-e-3', 'dall-e-2', 'gpt-4-1106-preview', 'gpt-3.5-turbo-1106', 'tts-1-hd', 'tts-1-1106', 'tts-1-hd-1106', 'text-embedding-3-small', 'text-embedding-3-large', 'gpt-4-0125-preview', 'gpt-4-turbo-preview', 'gpt-3.5-turbo-0125', 'gpt-4-turbo', 'gpt-4-turbo-2024-04-09', 'gpt-4o', 'gpt-4o-2024-05-13', 'gpt-4o-mini-2024-07-18', 'gpt-4o-mini', 'gpt-4o-2024-08-06', 'chatgpt-4o-latest', 'o1-preview-2024-09-12', 'o1-preview', 'o1-mini-2024-09-12', 'o1-mini', 'gpt-4o-realtime-preview-2024-10-01', 'gpt-4o-audio-preview-2024-10-01', 'gpt-4o-audio-preview', 'gpt-4o-realtime-preview', 'omni-moderation-latest', 'omni-moderation-2024-09-26', 'gpt-4o-realtime-preview-2024-12-17', 'gpt-4o-audio-preview-2024-12-17', 'gpt-4o-mini-realtime-preview-2024-12-17', 'gpt-4o-mini-audio-preview-2024-12-17', 'o1-2024-12-17', 'o1', 'gpt-4o-mini-realtime-preview', 'gpt-4o-mini-audio-preview', 'o3-mini', 'o3-mini-2025-01-31', 'gpt-4o-2024-11-20', 'gpt-4.5-preview', 'gpt-4.5-preview-2025-02-27', 'gpt-4o-search-preview-2025-03-11', 'gpt-4o-search-preview', 'gpt-4o-mini-search-preview-2025-03-11', 'gpt-4o-mini-search-preview', 'gpt-4o-transcribe', 'gpt-4o-mini-transcribe', 'o1-pro-2025-03-19', 'o1-pro', 'gpt-4o-mini-tts', 'o3-2025-04-16', 'o4-mini-2025-04-16', 'o3', 'o4-mini', 'gpt-4.1-2025-04-14', 'gpt-4.1', 'gpt-4.1-mini-2025-04-14', 'gpt-4.1-mini', 'gpt-4.1-nano-2025-04-14', 'gpt-4.1-nano', 'gpt-image-1', 'codex-mini-latest', 'o3-pro', 'gpt-4o-realtime-preview-2025-06-03', 'gpt-4o-audio-preview-2025-06-03', 'gpt-3.5-turbo-16k', 'tts-1', 'whisper-1', 'text-embedding-ada-002']\n"
     ]
    }
   ],
   "source": [
    "from openai import OpenAI\n",
    "\n",
    "import os\n",
    "client = OpenAI(\n",
    "    api_key=os.getenv(\"OPENAI_API_KEY\"),\n",
    ")\n",
    "\n",
    "models = client.models.list()\n",
    "print([m.id for m in models.data])\n"
   ]
  },
  {
   "cell_type": "code",
   "execution_count": 39,
   "id": "b5eb2546",
   "metadata": {},
   "outputs": [
    {
     "name": "stdout",
     "output_type": "stream",
     "text": [
      "content=\"Sure! Did you know that the Moon is not perfectly round? Due to its gravitational interaction with Earth, the side of the Moon that faces us is slightly elongated, while the far side is more spherical. This means the Moon is slightly egg-shaped. Additionally, the Moon is moving away from Earth at a rate of about 3.8 centimeters per year! This gradual increase in distance is due to tidal forces. Isn't that fascinating?\" additional_kwargs={} response_metadata={'finish_reason': 'stop', 'model_name': 'mistral-saba-24b', 'system_fingerprint': 'fp_07e680a590'} id='run--f6486262-6080-4766-acec-b1e4d8e9aa18-0' usage_metadata={'input_tokens': 13, 'output_tokens': 90, 'total_tokens': 103}\n"
     ]
    }
   ],
   "source": [
    "llm = ChatGroq(\n",
    "    groq_api_key=groq_api_key,\n",
    "    model_name=\"mistral-saba-24b\",  # other options: mixtral-8x7b, llama3-8b, etc.\n",
    "    streaming=True\n",
    ")\n",
    "# Print response\n",
    "response = llm.invoke(\"Tell me a fun fact about the moon.\")\n",
    "print(response)"
   ]
  },
  {
   "cell_type": "code",
   "execution_count": null,
   "id": "4477eda6",
   "metadata": {},
   "outputs": [],
   "source": []
  }
 ],
 "metadata": {
  "kernelspec": {
   "display_name": "myennv",
   "language": "python",
   "name": "python3"
  },
  "language_info": {
   "codemirror_mode": {
    "name": "ipython",
    "version": 3
   },
   "file_extension": ".py",
   "mimetype": "text/x-python",
   "name": "python",
   "nbconvert_exporter": "python",
   "pygments_lexer": "ipython3",
   "version": "3.12.10"
  }
 },
 "nbformat": 4,
 "nbformat_minor": 5
}
